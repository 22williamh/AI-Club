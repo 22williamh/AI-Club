{
 "cells": [
  {
   "cell_type": "markdown",
   "source": [
    "# Python Basics\n",
    "\n",
    "- Interpreted language\n",
    "- Dynamic variables\n",
    "- Syntax"
   ],
   "metadata": {}
  },
  {
   "cell_type": "markdown",
   "source": [
    "## Variables"
   ],
   "metadata": {}
  },
  {
   "cell_type": "code",
   "execution_count": 1,
   "source": [
    "import math\n",
    "\n",
    "pi = math.pi\n",
    "n = '1'\n",
    "n = 1\n",
    "b = True\n",
    "string = \"nice\""
   ],
   "outputs": [],
   "metadata": {}
  },
  {
   "cell_type": "markdown",
   "source": [
    "## Arrays"
   ],
   "metadata": {}
  },
  {
   "cell_type": "code",
   "execution_count": null,
   "source": [
    "array = []\n",
    "\n",
    "array.append(pi)\n",
    "array.append(n)\n",
    "array.append(b)\n",
    "array.append(string)\n",
    "print(array)"
   ],
   "outputs": [],
   "metadata": {}
  },
  {
   "cell_type": "markdown",
   "source": [
    "## Logic Statements"
   ],
   "metadata": {}
  },
  {
   "cell_type": "code",
   "execution_count": null,
   "source": [
    "number = 1\n",
    "if number == 0:\n",
    "    print('yay')\n",
    "elif number == 1:\n",
    "    print('neh')\n",
    "else:\n",
    "    print('hey')\n",
    "\n",
    "a = True\n",
    "b = False\n",
    "print(a and b)\n",
    "print(a or b)\n",
    "print(not a and b)"
   ],
   "outputs": [],
   "metadata": {}
  },
  {
   "cell_type": "markdown",
   "source": [
    "## Input"
   ],
   "metadata": {}
  },
  {
   "cell_type": "code",
   "execution_count": null,
   "source": [
    "num = input(\"Enter a number:\")\n",
    "print(num)"
   ],
   "outputs": [],
   "metadata": {}
  },
  {
   "cell_type": "markdown",
   "source": [
    "## Functions\n",
    "\n",
    "- No paramater types\n",
    "- No return types"
   ],
   "metadata": {}
  },
  {
   "cell_type": "code",
   "execution_count": null,
   "source": [
    "def create_list_1(size):\n",
    "    list = [None] * size\n",
    "    for i in range(size):\n",
    "        list[i] = i\n",
    "    return list\n",
    "\n",
    "def create_list_2(size):\n",
    "    list = []\n",
    "    for i in range(size):\n",
    "        list.append(i)\n",
    "    return list\n",
    "\n",
    "list_1 = create_list_1(5)\n",
    "print(list_1)\n",
    "list_2 = create_list_2(5)\n",
    "print(list_2)"
   ],
   "outputs": [],
   "metadata": {}
  },
  {
   "cell_type": "markdown",
   "source": [
    "## Classes\n",
    "- 'self' to reference instance variables"
   ],
   "metadata": {}
  },
  {
   "cell_type": "code",
   "execution_count": null,
   "source": [
    "class person:\n",
    "\n",
    "    def __init__(self, weight, height):\n",
    "        self.weight = weight\n",
    "        self.height = height\n",
    "\n",
    "    def grow(self):\n",
    "        self.weight += 10\n",
    "        self.height += 10\n",
    "\n",
    "    def __str__(self):\n",
    "        return 'weight: ' + str(self.weight) + ', height: ' + str(self.height)\n",
    "        # return f'weight: {self.weight}, height: {self.height}'\n",
    "\n",
    "bob = person(100, 160)\n",
    "bob.grow\n",
    "print(bob)"
   ],
   "outputs": [],
   "metadata": {}
  },
  {
   "cell_type": "markdown",
   "source": [
    "## Create your own Calculator\n",
    "\n",
    "The user should be able to enter two numbers and do addition, substraction, multiplication, and division."
   ],
   "metadata": {}
  }
 ],
 "metadata": {
  "orig_nbformat": 4,
  "language_info": {
   "name": "python",
   "version": "3.9.7",
   "mimetype": "text/x-python",
   "codemirror_mode": {
    "name": "ipython",
    "version": 3
   },
   "pygments_lexer": "ipython3",
   "nbconvert_exporter": "python",
   "file_extension": ".py"
  },
  "kernelspec": {
   "name": "python3",
   "display_name": "Python 3.9.7 64-bit ('.venv': venv)"
  },
  "interpreter": {
   "hash": "e10347ae455602872e3827ce09f3a87f63f84ab2778f6dc4ab460e6eb14b3071"
  }
 },
 "nbformat": 4,
 "nbformat_minor": 2
}