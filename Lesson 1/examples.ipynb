{
 "cells": [
  {
   "cell_type": "markdown",
   "source": [
    "## Python Basics\n",
    "\n",
    "- Interpreted language\n",
    "- Dynamic variables"
   ],
   "metadata": {}
  },
  {
   "cell_type": "code",
   "execution_count": null,
   "source": [
    "pi = 3.1459\n",
    "n = '1'\n",
    "n = 1\n",
    "b = True\n",
    "string = \"nice\"\n",
    "array = []\n",
    "\n",
    "array.append(pi)\n",
    "array.append(n)\n",
    "array.append(b)\n",
    "array.append(string)\n",
    "\n",
    "print(f'{array = }')"
   ],
   "outputs": [],
   "metadata": {}
  },
  {
   "cell_type": "markdown",
   "source": [
    "## Functions\n",
    "\n",
    "- No paramater types\n",
    "- No return types"
   ],
   "metadata": {}
  },
  {
   "cell_type": "code",
   "execution_count": null,
   "source": [
    "import random\n",
    "\n",
    "def random_list(size):\n",
    "    list = [None] * size\n",
    "    for i in range(size):\n",
    "        list[i] = random.randint(0, 100)\n",
    "    return list\n",
    "\n",
    "list_1 = random_list(5)\n",
    "print(f'{list_1 = }')\n"
   ],
   "outputs": [],
   "metadata": {}
  },
  {
   "cell_type": "markdown",
   "source": [
    "## Classes\n",
    "- 'self' to reference instance variables"
   ],
   "metadata": {}
  },
  {
   "cell_type": "code",
   "execution_count": null,
   "source": [
    "class person:\n",
    "\n",
    "    def __init__(self, weight, height):\n",
    "        self.weight = weight\n",
    "        self.height = height\n",
    "\n",
    "    def grow(self):\n",
    "        self.weight += 10\n",
    "        self.height += 10\n",
    "\n",
    "    def __str__(self):\n",
    "        return 'weight: ' + str(self.weight) + ', height: ' + str(self.height)\n",
    "        # return f'weight: {self.weight}, height: {self.height}'\n",
    "\n",
    "bob = person(100, 160)\n",
    "bob.grow()\n",
    "print(bob)"
   ],
   "outputs": [],
   "metadata": {}
  }
 ],
 "metadata": {
  "orig_nbformat": 4,
  "language_info": {
   "name": "python",
   "version": "3.9.7",
   "mimetype": "text/x-python",
   "codemirror_mode": {
    "name": "ipython",
    "version": 3
   },
   "pygments_lexer": "ipython3",
   "nbconvert_exporter": "python",
   "file_extension": ".py"
  },
  "kernelspec": {
   "name": "python3",
   "display_name": "Python 3.9.7 64-bit ('.venv': venv)"
  },
  "interpreter": {
   "hash": "e10347ae455602872e3827ce09f3a87f63f84ab2778f6dc4ab460e6eb14b3071"
  }
 },
 "nbformat": 4,
 "nbformat_minor": 2
}