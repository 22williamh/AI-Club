{
 "cells": [
  {
   "cell_type": "markdown",
   "source": [
    "## Lesson 2\n",
    "\n",
    "- Ideas\n",
    "    - AI News\n",
    "    - AI Applications\n",
    "\n"
   ],
   "metadata": {}
  }
 ],
 "metadata": {
  "orig_nbformat": 4,
  "language_info": {
   "name": "python"
  }
 },
 "nbformat": 4,
 "nbformat_minor": 2
}