{
 "cells": [
  {
   "cell_type": "markdown",
   "source": [
    "## Python Basics\n",
    "\n",
    "- Interpreted language\n",
    "- Dynamic variables"
   ],
   "metadata": {}
  },
  {
   "cell_type": "code",
   "execution_count": 11,
   "source": [
    "pi = 3.1459\n",
    "n = '1'\n",
    "n = 1\n",
    "b = True\n",
    "string = \"nice\"\n",
    "array = []\n",
    "\n",
    "array.append(pi)\n",
    "array.append(n)\n",
    "array.append(b)\n",
    "array.append(string)\n",
    "\n",
    "print(f'{array = }')"
   ],
   "outputs": [
    {
     "output_type": "stream",
     "name": "stdout",
     "text": [
      "array = [3.1459, 1, True, 'nice']\n"
     ]
    }
   ],
   "metadata": {}
  },
  {
   "cell_type": "markdown",
   "source": [
    "## Functions\n",
    "\n",
    "- No paramater types\n",
    "- No return types"
   ],
   "metadata": {}
  },
  {
   "cell_type": "code",
   "execution_count": 10,
   "source": [
    "import random\n",
    "\n",
    "def random_list(size):\n",
    "    list = [None] * size\n",
    "    for i in range(size):\n",
    "        list[i] = random.randint(0, 100)\n",
    "    return list\n",
    "\n",
    "list_1 = random_list(5)\n",
    "print(f'{list_1 = }')"
   ],
   "outputs": [
    {
     "output_type": "stream",
     "name": "stdout",
     "text": [
      "list_1 = [38, 58, 17, 8, 73]\n"
     ]
    }
   ],
   "metadata": {}
  },
  {
   "cell_type": "markdown",
   "source": [
    "## Classes\n",
    "- 'self' to reference instance variables"
   ],
   "metadata": {}
  },
  {
   "cell_type": "code",
   "execution_count": 24,
   "source": [
    "class person:\n",
    "    a = 0 \n",
    "    def __init__(self, weight, height):\n",
    "        self.weight = weight\n",
    "        self.height = height\n",
    "\n",
    "    def grow(self):\n",
    "        self.weight += 10\n",
    "        self.height += 10\n",
    "\n",
    "    def __str__(self):\n",
    "        return 'weight: ' + str(self.weight) + ', height: ' + str(self.height)\n",
    "        # return f'weight: {self.weight}, height: {self.height}'\n",
    "    \n",
    "bob= person(100, 160)\n",
    "bob.grow()\n",
    "print(bob)"
   ],
   "outputs": [
    {
     "output_type": "stream",
     "name": "stdout",
     "text": [
      "weight: 110, height: 170\n"
     ]
    }
   ],
   "metadata": {}
  }
 ],
 "metadata": {
  "orig_nbformat": 4,
  "language_info": {
   "name": "python",
   "version": "3.9.7",
   "mimetype": "text/x-python",
   "codemirror_mode": {
    "name": "ipython",
    "version": 3
   },
   "pygments_lexer": "ipython3",
   "nbconvert_exporter": "python",
   "file_extension": ".py"
  },
  "kernelspec": {
   "name": "python3",
   "display_name": "Python 3.9.7 64-bit"
  },
  "interpreter": {
   "hash": "b0fa6594d8f4cbf19f97940f81e996739fb7646882a419484c72d19e05852a7e"
  }
 },
 "nbformat": 4,
 "nbformat_minor": 2
}